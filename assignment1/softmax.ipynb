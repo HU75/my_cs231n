{
 "cells": [
  {
   "cell_type": "markdown",
   "metadata": {},
   "source": [
    "# Softmax exercise\n",
    "\n",
    "*Complete and hand in this completed worksheet (including its outputs and any supporting code outside of the worksheet) with your assignment submission. For more details see the [assignments page](http://vision.stanford.edu/teaching/cs231n/assignments.html) on the course website.*\n",
    "\n",
    "This exercise is analogous to the SVM exercise. You will:\n",
    "\n",
    "- implement a fully-vectorized **loss function** for the Softmax classifier\n",
    "- implement the fully-vectorized expression for its **analytic gradient**\n",
    "- **check your implementation** with numerical gradient\n",
    "- use a validation set to **tune the learning rate and regularization** strength\n",
    "- **optimize** the loss function with **SGD**\n",
    "- **visualize** the final learned weights\n"
   ]
  },
  {
   "cell_type": "code",
   "execution_count": 39,
   "metadata": {
    "collapsed": false
   },
   "outputs": [
    {
     "name": "stdout",
     "output_type": "stream",
     "text": [
      "The autoreload extension is already loaded. To reload it, use:\n",
      "  %reload_ext autoreload\n"
     ]
    }
   ],
   "source": [
    "from __future__ import print_function\n",
    "\n",
    "import random\n",
    "import numpy as np\n",
    "from cs231n.data_utils import load_CIFAR10\n",
    "import matplotlib.pyplot as plt\n",
    "\n",
    "%matplotlib inline\n",
    "plt.rcParams['figure.figsize'] = (10.0, 8.0) # set default size of plots\n",
    "plt.rcParams['image.interpolation'] = 'nearest'\n",
    "plt.rcParams['image.cmap'] = 'gray'\n",
    "\n",
    "# for auto-reloading extenrnal modules\n",
    "# see http://stackoverflow.com/questions/1907993/autoreload-of-modules-in-ipython\n",
    "%load_ext autoreload\n",
    "%autoreload 2"
   ]
  },
  {
   "cell_type": "code",
   "execution_count": 40,
   "metadata": {
    "collapsed": false
   },
   "outputs": [
    {
     "name": "stdout",
     "output_type": "stream",
     "text": [
      "Train data shape:  (49000, 3073)\n",
      "Train labels shape:  (49000,)\n",
      "Validation data shape:  (1000, 3073)\n",
      "Validation labels shape:  (1000,)\n",
      "Test data shape:  (1000, 3073)\n",
      "Test labels shape:  (1000,)\n",
      "dev data shape:  (500, 3073)\n",
      "dev labels shape:  (500,)\n"
     ]
    }
   ],
   "source": [
    "def get_CIFAR10_data(num_training=49000, num_validation=1000, num_test=1000, num_dev=500):\n",
    "    \"\"\"\n",
    "    Load the CIFAR-10 dataset from disk and perform preprocessing to prepare\n",
    "    it for the linear classifier. These are the same steps as we used for the\n",
    "    SVM, but condensed to a single function.  \n",
    "    \"\"\"\n",
    "    # Load the raw CIFAR-10 data\n",
    "    cifar10_dir = 'cs231n/datasets/cifar-10-batches-py'\n",
    "    X_train, y_train, X_test, y_test = load_CIFAR10(cifar10_dir)\n",
    "    \n",
    "    # subsample the data\n",
    "    mask = list(range(num_training, num_training + num_validation))\n",
    "    X_val = X_train[mask]\n",
    "    y_val = y_train[mask]\n",
    "    mask = list(range(num_training))\n",
    "    X_train = X_train[mask]\n",
    "    y_train = y_train[mask]\n",
    "    mask = list(range(num_test))\n",
    "    X_test = X_test[mask]\n",
    "    y_test = y_test[mask]\n",
    "    mask = np.random.choice(num_training, num_dev, replace=False)\n",
    "    X_dev = X_train[mask]\n",
    "    y_dev = y_train[mask]\n",
    "    \n",
    "    # Preprocessing: reshape the image data into rows\n",
    "    X_train = np.reshape(X_train, (X_train.shape[0], -1))\n",
    "    X_val = np.reshape(X_val, (X_val.shape[0], -1))\n",
    "    X_test = np.reshape(X_test, (X_test.shape[0], -1))\n",
    "    X_dev = np.reshape(X_dev, (X_dev.shape[0], -1))\n",
    "    \n",
    "    # Normalize the data: subtract the mean image\n",
    "    mean_image = np.mean(X_train, axis = 0)\n",
    "    X_train -= mean_image\n",
    "    X_val -= mean_image\n",
    "    X_test -= mean_image\n",
    "    X_dev -= mean_image\n",
    "    \n",
    "    # add bias dimension and transform into columns\n",
    "    X_train = np.hstack([X_train, np.ones((X_train.shape[0], 1))])\n",
    "    X_val = np.hstack([X_val, np.ones((X_val.shape[0], 1))])\n",
    "    X_test = np.hstack([X_test, np.ones((X_test.shape[0], 1))])\n",
    "    X_dev = np.hstack([X_dev, np.ones((X_dev.shape[0], 1))])\n",
    "    \n",
    "    return X_train, y_train, X_val, y_val, X_test, y_test, X_dev, y_dev\n",
    "\n",
    "\n",
    "# Invoke the above function to get our data.\n",
    "X_train, y_train, X_val, y_val, X_test, y_test, X_dev, y_dev = get_CIFAR10_data()\n",
    "print('Train data shape: ', X_train.shape)\n",
    "print('Train labels shape: ', y_train.shape)\n",
    "print('Validation data shape: ', X_val.shape)\n",
    "print('Validation labels shape: ', y_val.shape)\n",
    "print('Test data shape: ', X_test.shape)\n",
    "print('Test labels shape: ', y_test.shape)\n",
    "print('dev data shape: ', X_dev.shape)\n",
    "print('dev labels shape: ', y_dev.shape)"
   ]
  },
  {
   "cell_type": "markdown",
   "metadata": {},
   "source": [
    "## Softmax Classifier\n",
    "\n",
    "Your code for this section will all be written inside **cs231n/classifiers/softmax.py**. \n"
   ]
  },
  {
   "cell_type": "code",
   "execution_count": 41,
   "metadata": {
    "collapsed": false
   },
   "outputs": [
    {
     "name": "stdout",
     "output_type": "stream",
     "text": [
      "loss: 2.291657\n",
      "sanity check: 2.302585\n"
     ]
    }
   ],
   "source": [
    "# First implement the naive softmax loss function with nested loops.\n",
    "# Open the file cs231n/classifiers/softmax.py and implement the\n",
    "# softmax_loss_naive function.\n",
    "\n",
    "from cs231n.classifiers.softmax import softmax_loss_naive\n",
    "import time\n",
    "\n",
    "# Generate a random softmax weight matrix and use it to compute the loss.\n",
    "W = np.random.randn(3073, 10) * 0.0001\n",
    "loss, grad = softmax_loss_naive(W, X_dev, y_dev, 0.0)\n",
    "\n",
    "# As a rough sanity check, our loss should be something close to -log(0.1).\n",
    "print('loss: %f' % loss)\n",
    "print('sanity check: %f' % (-np.log(0.1)))"
   ]
  },
  {
   "cell_type": "markdown",
   "metadata": {},
   "source": [
    "## Inline Question 1:\n",
    "Why do we expect our loss to be close to -log(0.1)? Explain briefly.**\n",
    "\n",
    "**Your answer:** \n",
    "\n",
    "我们期望损失值接近于 -log(0.1) 是因为在没有经过训练的情况下，分类器的权重矩阵 W 是随机初始化的。在这种情况下，对于每个样本，分类器输出的每个类别的得分（经过 softmax 计算后）可能接近均匀分布。对于一个有 10 个类别的分类问题来说，均匀分布下每个类别的概率是 0.1。\n",
    "\n",
    "在 softmax 损失函数中，对于每个样本的正确类别 y[i]，损失计算为 -log(softmax 输出的正确类别的概率)。如果这个概率接近 0.1，那么损失就会接近 -log(0.1)，即大约 2.302。\n",
    "\n",
    "因此，在模型未经过训练或随机初始化时，分类器的输出接近于随机猜测，我们期望损失值接近 -log(0.1)。\n"
   ]
  },
  {
   "cell_type": "code",
   "execution_count": 42,
   "metadata": {
    "collapsed": false
   },
   "outputs": [
    {
     "name": "stdout",
     "output_type": "stream",
     "text": [
      "numerical: -0.526392 analytic: -0.526392, relative error: 3.126105e-08\n",
      "numerical: 1.256876 analytic: 1.256876, relative error: 7.064840e-08\n",
      "numerical: 3.243370 analytic: 3.243370, relative error: 4.222978e-09\n",
      "numerical: -1.019065 analytic: -1.019066, relative error: 9.201099e-08\n",
      "numerical: -0.183924 analytic: -0.183924, relative error: 4.183267e-07\n",
      "numerical: -2.022027 analytic: -2.022027, relative error: 2.345820e-08\n",
      "numerical: 2.878284 analytic: 2.878284, relative error: 1.936875e-08\n",
      "numerical: 0.961133 analytic: 0.961133, relative error: 3.168448e-08\n",
      "numerical: 1.656416 analytic: 1.656416, relative error: 1.607336e-09\n",
      "numerical: -2.012042 analytic: -2.012042, relative error: 3.136901e-09\n",
      "numerical: 1.083777 analytic: 1.083777, relative error: 2.171936e-08\n",
      "numerical: -2.252823 analytic: -2.252823, relative error: 1.928202e-08\n",
      "numerical: 0.073278 analytic: 0.073278, relative error: 6.433925e-07\n",
      "numerical: -0.450575 analytic: -0.450575, relative error: 5.577694e-08\n",
      "numerical: 0.977775 analytic: 0.977775, relative error: 3.638253e-10\n",
      "numerical: 0.116957 analytic: 0.116957, relative error: 3.432309e-07\n",
      "numerical: -0.164466 analytic: -0.164466, relative error: 1.597064e-07\n",
      "numerical: 2.277287 analytic: 2.277287, relative error: 3.249672e-08\n",
      "numerical: -2.266918 analytic: -2.266918, relative error: 4.206854e-08\n",
      "numerical: 0.165850 analytic: 0.165850, relative error: 1.307825e-07\n"
     ]
    }
   ],
   "source": [
    "# Complete the implementation of softmax_loss_naive and implement a (naive)\n",
    "# version of the gradient that uses nested loops.\n",
    "loss, grad = softmax_loss_naive(W, X_dev, y_dev, 0.0)\n",
    "\n",
    "# As we did for the SVM, use numeric gradient checking as a debugging tool.\n",
    "# The numeric gradient should be close to the analytic gradient.\n",
    "from cs231n.gradient_check import grad_check_sparse\n",
    "f = lambda w: softmax_loss_naive(w, X_dev, y_dev, 0.0)[0]\n",
    "grad_numerical = grad_check_sparse(f, W, grad, 10)\n",
    "\n",
    "# similar to SVM case, do another gradient check with regularization\n",
    "loss, grad = softmax_loss_naive(W, X_dev, y_dev, 5e1)\n",
    "f = lambda w: softmax_loss_naive(w, X_dev, y_dev, 5e1)[0]\n",
    "grad_numerical = grad_check_sparse(f, W, grad, 10)"
   ]
  },
  {
   "cell_type": "code",
   "execution_count": 43,
   "metadata": {
    "collapsed": false
   },
   "outputs": [
    {
     "name": "stdout",
     "output_type": "stream",
     "text": [
      "naive loss: 2.291657e+00 computed in 0.041559s\n",
      "vectorized loss: 2.291657e+00 computed in 0.003646s\n",
      "Loss difference: 0.000000\n",
      "Gradient difference: 0.000000\n"
     ]
    }
   ],
   "source": [
    "# Now that we have a naive implementation of the softmax loss function and its gradient,\n",
    "# implement a vectorized version in softmax_loss_vectorized.\n",
    "# The two versions should compute the same results, but the vectorized version should be\n",
    "# much faster.\n",
    "tic = time.time()\n",
    "loss_naive, grad_naive = softmax_loss_naive(W, X_dev, y_dev, 0.000005)\n",
    "toc = time.time()\n",
    "print('naive loss: %e computed in %fs' % (loss_naive, toc - tic))\n",
    "\n",
    "from cs231n.classifiers.softmax import softmax_loss_vectorized\n",
    "tic = time.time()\n",
    "loss_vectorized, grad_vectorized = softmax_loss_vectorized(W, X_dev, y_dev, 0.000005)\n",
    "toc = time.time()\n",
    "print('vectorized loss: %e computed in %fs' % (loss_vectorized, toc - tic))\n",
    "\n",
    "# As we did for the SVM, we use the Frobenius norm to compare the two versions\n",
    "# of the gradient.\n",
    "grad_difference = np.linalg.norm(grad_naive - grad_vectorized, ord='fro')\n",
    "print('Loss difference: %f' % np.abs(loss_naive - loss_vectorized))\n",
    "print('Gradient difference: %f' % grad_difference)"
   ]
  },
  {
   "cell_type": "code",
   "execution_count": 44,
   "metadata": {
    "collapsed": false
   },
   "outputs": [
    {
     "name": "stdout",
     "output_type": "stream",
     "text": [
      "(1e-07, 25000.0)\n",
      "iteration 0 / 3000: loss 787.618744\n",
      "iteration 100 / 3000: loss 288.753721\n",
      "iteration 200 / 3000: loss 106.990446\n",
      "iteration 300 / 3000: loss 40.465950\n",
      "iteration 400 / 3000: loss 16.196679\n",
      "iteration 500 / 3000: loss 7.211054\n",
      "iteration 600 / 3000: loss 3.974868\n",
      "iteration 700 / 3000: loss 2.775428\n",
      "iteration 800 / 3000: loss 2.246518\n",
      "iteration 900 / 3000: loss 2.180532\n",
      "iteration 1000 / 3000: loss 2.084695\n",
      "iteration 1100 / 3000: loss 2.107943\n",
      "iteration 1200 / 3000: loss 2.109356\n",
      "iteration 1300 / 3000: loss 2.109050\n",
      "iteration 1400 / 3000: loss 2.119651\n",
      "iteration 1500 / 3000: loss 2.050630\n",
      "iteration 1600 / 3000: loss 2.107799\n",
      "iteration 1700 / 3000: loss 2.139021\n",
      "iteration 1800 / 3000: loss 2.109481\n",
      "iteration 1900 / 3000: loss 2.022870\n",
      "iteration 2000 / 3000: loss 2.086182\n",
      "iteration 2100 / 3000: loss 2.043675\n",
      "iteration 2200 / 3000: loss 2.055345\n",
      "iteration 2300 / 3000: loss 2.066827\n",
      "iteration 2400 / 3000: loss 2.073786\n",
      "iteration 2500 / 3000: loss 2.039541\n",
      "iteration 2600 / 3000: loss 2.118212\n",
      "iteration 2700 / 3000: loss 2.143464\n",
      "iteration 2800 / 3000: loss 2.113591\n",
      "iteration 2900 / 3000: loss 2.115790\n",
      "training accuracy: 0.330061\n",
      "validation accuracy: 0.343000\n",
      "(1e-07, 50000.0)\n",
      "iteration 0 / 3000: loss 1533.721947\n",
      "iteration 100 / 3000: loss 206.586205\n",
      "iteration 200 / 3000: loss 29.451867\n",
      "iteration 300 / 3000: loss 5.802250\n",
      "iteration 400 / 3000: loss 2.640294\n",
      "iteration 500 / 3000: loss 2.180004\n",
      "iteration 600 / 3000: loss 2.109616\n",
      "iteration 700 / 3000: loss 2.136901\n",
      "iteration 800 / 3000: loss 2.121449\n",
      "iteration 900 / 3000: loss 2.174420\n",
      "iteration 1000 / 3000: loss 2.119204\n",
      "iteration 1100 / 3000: loss 2.132495\n",
      "iteration 1200 / 3000: loss 2.114069\n",
      "iteration 1300 / 3000: loss 2.092825\n",
      "iteration 1400 / 3000: loss 2.149032\n",
      "iteration 1500 / 3000: loss 2.141895\n",
      "iteration 1600 / 3000: loss 2.166135\n",
      "iteration 1700 / 3000: loss 2.116279\n",
      "iteration 1800 / 3000: loss 2.138716\n",
      "iteration 1900 / 3000: loss 2.135564\n",
      "iteration 2000 / 3000: loss 2.131301\n",
      "iteration 2100 / 3000: loss 2.134041\n",
      "iteration 2200 / 3000: loss 2.147588\n",
      "iteration 2300 / 3000: loss 2.144720\n",
      "iteration 2400 / 3000: loss 2.104248\n",
      "iteration 2500 / 3000: loss 2.116872\n",
      "iteration 2600 / 3000: loss 2.124046\n",
      "iteration 2700 / 3000: loss 2.175729\n",
      "iteration 2800 / 3000: loss 2.102607\n",
      "iteration 2900 / 3000: loss 2.121982\n",
      "training accuracy: 0.308143\n",
      "validation accuracy: 0.332000\n",
      "(5e-07, 25000.0)\n",
      "iteration 0 / 3000: loss 769.653168\n",
      "iteration 100 / 3000: loss 6.837589\n",
      "iteration 200 / 3000: loss 2.104569\n",
      "iteration 300 / 3000: loss 2.053684\n",
      "iteration 400 / 3000: loss 2.125365\n",
      "iteration 500 / 3000: loss 2.088954\n",
      "iteration 600 / 3000: loss 2.082456\n",
      "iteration 700 / 3000: loss 2.103816\n",
      "iteration 800 / 3000: loss 2.064589\n",
      "iteration 900 / 3000: loss 2.112644\n",
      "iteration 1000 / 3000: loss 2.119825\n",
      "iteration 1100 / 3000: loss 2.060554\n",
      "iteration 1200 / 3000: loss 2.098312\n",
      "iteration 1300 / 3000: loss 2.089404\n",
      "iteration 1400 / 3000: loss 2.095248\n",
      "iteration 1500 / 3000: loss 2.051251\n",
      "iteration 1600 / 3000: loss 2.109168\n",
      "iteration 1700 / 3000: loss 2.097840\n",
      "iteration 1800 / 3000: loss 2.091696\n",
      "iteration 1900 / 3000: loss 2.066050\n",
      "iteration 2000 / 3000: loss 2.073443\n",
      "iteration 2100 / 3000: loss 2.063560\n",
      "iteration 2200 / 3000: loss 2.126280\n",
      "iteration 2300 / 3000: loss 2.133103\n",
      "iteration 2400 / 3000: loss 2.080767\n",
      "iteration 2500 / 3000: loss 2.046607\n",
      "iteration 2600 / 3000: loss 2.087422\n",
      "iteration 2700 / 3000: loss 2.053630\n",
      "iteration 2800 / 3000: loss 2.067969\n",
      "iteration 2900 / 3000: loss 2.050182\n",
      "training accuracy: 0.331184\n",
      "validation accuracy: 0.342000\n",
      "(5e-07, 50000.0)\n",
      "iteration 0 / 3000: loss 1542.242854\n",
      "iteration 100 / 3000: loss 2.204817\n",
      "iteration 200 / 3000: loss 2.182519\n",
      "iteration 300 / 3000: loss 2.151977\n",
      "iteration 400 / 3000: loss 2.183175\n",
      "iteration 500 / 3000: loss 2.152499\n",
      "iteration 600 / 3000: loss 2.145207\n",
      "iteration 700 / 3000: loss 2.142010\n",
      "iteration 800 / 3000: loss 2.184083\n",
      "iteration 900 / 3000: loss 2.134197\n",
      "iteration 1000 / 3000: loss 2.183649\n",
      "iteration 1100 / 3000: loss 2.182314\n",
      "iteration 1200 / 3000: loss 2.153677\n",
      "iteration 1300 / 3000: loss 2.187244\n",
      "iteration 1400 / 3000: loss 2.128508\n",
      "iteration 1500 / 3000: loss 2.150963\n",
      "iteration 1600 / 3000: loss 2.157708\n",
      "iteration 1700 / 3000: loss 2.149298\n",
      "iteration 1800 / 3000: loss 2.153386\n",
      "iteration 1900 / 3000: loss 2.132344\n",
      "iteration 2000 / 3000: loss 2.102966\n",
      "iteration 2100 / 3000: loss 2.099883\n",
      "iteration 2200 / 3000: loss 2.186545\n",
      "iteration 2300 / 3000: loss 2.181753\n",
      "iteration 2400 / 3000: loss 2.121655\n",
      "iteration 2500 / 3000: loss 2.157564\n",
      "iteration 2600 / 3000: loss 2.111096\n",
      "iteration 2700 / 3000: loss 2.146128\n",
      "iteration 2800 / 3000: loss 2.150174\n",
      "iteration 2900 / 3000: loss 2.150340\n",
      "training accuracy: 0.309102\n",
      "validation accuracy: 0.323000\n",
      "lr 1.000000e-07 reg 2.500000e+04 train accuracy: 0.330061 val accuracy: 0.343000\n",
      "lr 1.000000e-07 reg 5.000000e+04 train accuracy: 0.308143 val accuracy: 0.332000\n",
      "lr 5.000000e-07 reg 2.500000e+04 train accuracy: 0.331184 val accuracy: 0.342000\n",
      "lr 5.000000e-07 reg 5.000000e+04 train accuracy: 0.309102 val accuracy: 0.323000\n",
      "best validation accuracy achieved during cross-validation: 0.343000\n"
     ]
    }
   ],
   "source": [
    "# Use the validation set to tune hyperparameters (regularization strength and\n",
    "# learning rate). You should experiment with different ranges for the learning\n",
    "# rates and regularization strengths; if you are careful you should be able to\n",
    "# get a classification accuracy of over 0.35 on the validation set.\n",
    "from cs231n.classifiers import Softmax\n",
    "results = {}\n",
    "best_val = -1\n",
    "best_softmax = None\n",
    "learning_rates = [1e-7, 5e-7]\n",
    "regularization_strengths = [2.5e4, 5e4]\n",
    "\n",
    "################################################################################\n",
    "# TODO:                                                                        #\n",
    "# Use the validation set to set the learning rate and regularization strength. #\n",
    "# This should be identical to the validation that you did for the SVM; save    #\n",
    "# the best trained softmax classifer in best_softmax.                          #\n",
    "################################################################################\n",
    "import itertools\n",
    "\n",
    "# 使用 itertools.product 生成所有参数组合\n",
    "param_combinations = list(itertools.product(learning_rates, regularization_strengths))\n",
    "for combo in param_combinations:\n",
    "    print(combo)\n",
    "\n",
    "    softmax = Softmax()\n",
    "    loss_hist = softmax.train(X_train, y_train, learning_rate=combo[0], reg=combo[1],\n",
    "                                num_iters=3000, verbose=True)     # iters = 1500\n",
    "    # plt.plot(loss_hist)\n",
    "    # plt.xlabel('Iteration number')\n",
    "    # plt.ylabel('Loss value')\n",
    "    # plt.show()\n",
    "    y_train_pred = softmax.predict(X_train)\n",
    "    train_accuracy = np.mean(y_train == y_train_pred)\n",
    "    print('training accuracy: %f' % (train_accuracy, ))\n",
    "    y_val_pred = softmax.predict(X_val)\n",
    "    val_accuracy = np.mean(y_val == y_val_pred)\n",
    "    print('validation accuracy: %f' % (val_accuracy, ))\n",
    "    \n",
    "    results[combo] = (train_accuracy, val_accuracy)\n",
    "    if best_val <= val_accuracy:\n",
    "        best_val = val_accuracy\n",
    "        best_softmax = softmax\n",
    "################################################################################\n",
    "#                              END OF YOUR CODE                                #\n",
    "################################################################################\n",
    "    \n",
    "# Print out results.\n",
    "for lr, reg in sorted(results):\n",
    "    train_accuracy, val_accuracy = results[(lr, reg)]\n",
    "    print('lr %e reg %e train accuracy: %f val accuracy: %f' % (\n",
    "                lr, reg, train_accuracy, val_accuracy))\n",
    "    \n",
    "print('best validation accuracy achieved during cross-validation: %f' % best_val)"
   ]
  },
  {
   "cell_type": "code",
   "execution_count": 45,
   "metadata": {
    "collapsed": false
   },
   "outputs": [
    {
     "name": "stdout",
     "output_type": "stream",
     "text": [
      "softmax on raw pixels final test set accuracy: 0.339000\n"
     ]
    }
   ],
   "source": [
    "# evaluate on test set\n",
    "# Evaluate the best softmax on test set\n",
    "y_test_pred = best_softmax.predict(X_test)\n",
    "test_accuracy = np.mean(y_test == y_test_pred)\n",
    "print('softmax on raw pixels final test set accuracy: %f' % (test_accuracy, ))"
   ]
  },
  {
   "cell_type": "code",
   "execution_count": 46,
   "metadata": {
    "collapsed": false
   },
   "outputs": [
    {
     "data": {
      "image/png": "[encoded data removed]",
      "text/plain": [
       "<matplotlib.figure.Figure at 0x7fda08e1e908>"
      ]
     },
     "metadata": {
      "needs_background": "light"
     },
     "output_type": "display_data"
    }
   ],
   "source": [
    "# Visualize the learned weights for each class\n",
    "w = best_softmax.W[:-1,:] # strip out the bias\n",
    "w = w.reshape(32, 32, 3, 10)\n",
    "\n",
    "w_min, w_max = np.min(w), np.max(w)\n",
    "\n",
    "classes = ['plane', 'car', 'bird', 'cat', 'deer', 'dog', 'frog', 'horse', 'ship', 'truck']\n",
    "for i in range(10):\n",
    "    plt.subplot(2, 5, i + 1)\n",
    "    \n",
    "    # Rescale the weights to be between 0 and 255\n",
    "    wimg = 255.0 * (w[:, :, :, i].squeeze() - w_min) / (w_max - w_min)\n",
    "    plt.imshow(wimg.astype('uint8'))\n",
    "    plt.axis('off')\n",
    "    plt.title(classes[i])"
   ]
  }
 ],
 "metadata": {
  "kernelspec": {
   "display_name": "cs231n_env",
   "language": "python",
   "name": "python3"
  },
  "language_info": {
   "codemirror_mode": {
    "name": "ipython",
    "version": 3
   },
   "file_extension": ".py",
   "mimetype": "text/x-python",
   "name": "python",
   "nbconvert_exporter": "python",
   "pygments_lexer": "ipython3",
   "version": "3.6.13"
  }
 },
 "nbformat": 4,
 "nbformat_minor": 0
}
